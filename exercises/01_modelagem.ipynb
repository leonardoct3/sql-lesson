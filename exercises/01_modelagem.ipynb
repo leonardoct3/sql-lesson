{
 "cells": [
  {
   "cell_type": "markdown",
   "id": "113c1ab6",
   "metadata": {},
   "source": [
    "# 📊 Modelagem de Banco de Dados com SQL\n",
    "\n",
    "Bem-vindo ao seu primeiro contato com **SQL** (Structured Query Language)! \n",
    "\n",
    "## O que é um Banco de Dados?\n",
    "\n",
    "Um **banco de dados** é como um arquivo Excel muito mais poderoso, onde podemos:\n",
    "- Armazenar informações de forma organizada em **tabelas**\n",
    "- Garantir que os dados estejam sempre consistentes\n",
    "- Fazer consultas complexas rapidamente\n",
    "- Controlar quem pode acessar cada informação\n",
    "\n",
    "## O que é SQL?\n",
    "\n",
    "**SQL** é a linguagem que usamos para \"conversar\" com bancos de dados. Com ela podemos:\n",
    "- **CREATE**: Criar tabelas e estruturas\n",
    "- **INSERT**: Adicionar dados\n",
    "- **SELECT**: Buscar informações\n",
    "- **UPDATE**: Modificar dados existentes\n",
    "- **DELETE**: Remover dados\n",
    "\n",
    "## Nossa Missão 🎯\n",
    "\n",
    "Vamos criar um banco de dados para uma **empresa de consultoria**! Precisamos organizar informações sobre:\n",
    "- 👥 **Clientes**: empresas que contratam nossos serviços\n",
    "- 📋 **Projetos**: trabalhos que realizamos\n",
    "- 👨‍💼 **Consultores**: nossa equipe\n",
    "- 🔗 **Alocações**: quem trabalha em cada projeto\n",
    "- ⭐ **Feedbacks**: avaliações dos projetos"
   ]
  },
  {
   "cell_type": "markdown",
   "id": "b6b358fa",
   "metadata": {},
   "source": [
    "## 🗝️ Conceitos Fundamentais: Chave Primária (PK) e Chave Estrangeira (FK)\n",
    "\n",
    "### Chave Primária (Primary Key - PK)\n",
    "É o **identificador único** de cada linha na tabela. Pense como o CPF de uma pessoa:\n",
    "- Cada linha tem um ID único\n",
    "- Nunca se repete\n",
    "- Não pode ser vazio (NULL)\n",
    "\n",
    "### Chave Estrangeira (Foreign Key - FK)\n",
    "É uma **referência** que conecta duas tabelas. Como um \"telefone de contato\":\n",
    "- Aponta para a PK de outra tabela\n",
    "- Cria relacionamentos entre tabelas\n",
    "- Mantém a consistência dos dados\n",
    "\n",
    "### Exemplo de Relacionamento:\n",
    "```\n",
    "CLIENTES                    PROJETOS\n",
    "+----+-------------+       +----+----------+------------+\n",
    "| id | nome        |  ←──  | id | titulo   | cliente_id |\n",
    "+----+-------------+       +----+----------+------------+\n",
    "| 1  | TechCorp    |       | 1  | ERP I    | 1          |\n",
    "| 2  | Verde Agro  |       | 2  | VENDAS II| 1          |\n",
    "+----+-------------+       +----+----------+------------+\n",
    "```\n",
    "\n",
    "O `cliente_id` na tabela PROJETOS é uma FK que aponta para o `id` na tabela CLIENTES!"
   ]
  },
  {
   "cell_type": "code",
   "execution_count": 138,
   "id": "b13e45f9",
   "metadata": {},
   "outputs": [
    {
     "name": "stdout",
     "output_type": "stream",
     "text": [
      "✅ Conectado ao banco de dados 'consultoria.db'\n",
      "✅ Chaves estrangeiras habilitadas\n",
      "\n",
      "🛠️ Sistema de backup/restore configurado!\n",
      "Agora vamos começar a criar nossas tabelas...\n"
     ]
    }
   ],
   "source": [
    "# Configuração inicial do banco de dados\n",
    "import sqlite3\n",
    "import os\n",
    "import sys\n",
    "\n",
    "# Adicionando o diretório de testes ao path\n",
    "sys.path.append('tests')\n",
    "from tests_modelagem import *\n",
    "\n",
    "# Conectando ao banco de dados\n",
    "conn = sqlite3.connect('consultoria.db')\n",
    "\n",
    "# Se banco já existe, apaga tudo\n",
    "conn.execute(\"DROP TABLE IF EXISTS projetos\")\n",
    "conn.execute(\"DROP TABLE IF EXISTS clientes\")\n",
    "conn.execute(\"DROP TABLE IF EXISTS consultores\")\n",
    "conn.execute(\"DROP TABLE IF EXISTS feedbacks\")\n",
    "conn.execute(\"DROP TABLE IF EXISTS alocacoes\")\n",
    "\n",
    "# Habilitando suporte a chaves estrangeiras (muito importante!)\n",
    "conn.execute(\"PRAGMA foreign_keys = ON;\")\n",
    "\n",
    "print(\"✅ Conectado ao banco de dados 'consultoria.db'\")\n",
    "print(\"✅ Chaves estrangeiras habilitadas\")\n",
    "\n",
    "# Sistema de backup para rollback em caso de erro\n",
    "backup_conn = None\n",
    "\n",
    "def backup_db():\n",
    "    \"\"\"Cria um backup do banco em memória\"\"\"\n",
    "    global backup_conn\n",
    "    backup_conn = sqlite3.connect(':memory:')\n",
    "    conn.backup(backup_conn)\n",
    "    print(\"📁 Backup criado\")\n",
    "\n",
    "def restore_db():\n",
    "    \"\"\"Restaura o banco a partir do backup\"\"\"\n",
    "    global backup_conn\n",
    "    if backup_conn:\n",
    "        backup_conn.backup(conn)\n",
    "        print(\"🔄 Banco restaurado do backup\")\n",
    "    else:\n",
    "        print(\"❌ Nenhum backup disponível\")\n",
    "\n",
    "def validate_and_execute(query, test_function):\n",
    "    \"\"\"Valida query em ambiente isolado antes de executar no banco principal\"\"\"\n",
    "    if not query or not query.strip():\n",
    "        print(\"❌ Query vazia! Escreva sua query SQL antes de executar.\")\n",
    "        return False\n",
    "    \n",
    "    # Fazer backup ANTES de qualquer tentativa\n",
    "    backup_db()\n",
    "    \n",
    "    try:\n",
    "        # Testar a query em um banco temporário isolado\n",
    "        test_conn = sqlite3.connect(':memory:')\n",
    "        test_conn.execute(\"PRAGMA foreign_keys = ON;\")\n",
    "        \n",
    "        # Copiar estrutura existente para o banco de teste\n",
    "        for linha in conn.iterdump():\n",
    "            if not linha.startswith('BEGIN') and not linha.startswith('COMMIT'):\n",
    "                try:\n",
    "                    test_conn.execute(linha)\n",
    "                except:\n",
    "                    pass  # Ignora erros de estrutura já existente\n",
    "        \n",
    "        # Testar a query do usuário no banco isolado\n",
    "        test_conn.execute(query)\n",
    "        test_conn.commit()\n",
    "        \n",
    "        # Se chegou até aqui, a query é válida sintaticamente\n",
    "        # Agora executar no banco principal\n",
    "        conn.execute(query)\n",
    "        conn.commit()\n",
    "        \n",
    "        # Testar se o resultado está correto\n",
    "        success = test_function(conn)\n",
    "        \n",
    "        if success:\n",
    "            print(\"✅ Query executada e validada com sucesso!\")\n",
    "            return True\n",
    "        else:\n",
    "            # Se teste falhar, fazer rollback\n",
    "            restore_db()\n",
    "            print(\"💡 Query executada mas resultado incorreto. Banco restaurado, tente novamente!\")\n",
    "            return False\n",
    "            \n",
    "    except Exception as e:\n",
    "        print(f\"❌ Erro na query: {str(e)}\")\n",
    "        print(\"💡 Corrija a sintaxe e tente novamente!\")\n",
    "        return False\n",
    "    finally:\n",
    "        if 'test_conn' in locals():\n",
    "            test_conn.close()\n",
    "\n",
    "def test_and_rollback(test_function):\n",
    "    \"\"\"Mantido para compatibilidade - executa teste simples\"\"\"\n",
    "    success = test_function(conn)\n",
    "    if not success:\n",
    "        print(\"💡 Execute a query correta primeiro!\")\n",
    "    return success\n",
    "\n",
    "def validate_and_execute_inserts(insert_queries, test_function):\n",
    "    \"\"\"Valida e executa múltiplas queries INSERT com rollback automático\"\"\"\n",
    "    if not insert_queries or not insert_queries.strip():\n",
    "        print(\"❌ Queries vazias! Escreva seus INSERTs antes de executar.\")\n",
    "        return False\n",
    "    \n",
    "    # Fazer backup ANTES de qualquer tentativa\n",
    "    backup_db()\n",
    "    \n",
    "    try:\n",
    "        # Executar todas as queries de inserção\n",
    "        queries = [q.strip() for q in insert_queries.strip().split(';') if q.strip()]\n",
    "        \n",
    "        if not queries:\n",
    "            print(\"❌ Nenhuma query válida encontrada!\")\n",
    "            return False\n",
    "        \n",
    "        for query in queries:\n",
    "            conn.execute(query)\n",
    "        conn.commit()\n",
    "        \n",
    "        # Testar se o resultado está correto\n",
    "        success = test_function(conn)\n",
    "        \n",
    "        if success:\n",
    "            print(\"✅ Dados inseridos e validados com sucesso!\")\n",
    "            return True\n",
    "        else:\n",
    "            # Se teste falhar, fazer rollback\n",
    "            restore_db()\n",
    "            print(\"💡 Dados inseridos mas resultado incorreto. Banco restaurado, tente novamente!\")\n",
    "            return False\n",
    "            \n",
    "    except Exception as e:\n",
    "        restore_db()\n",
    "        print(f\"❌ Erro ao inserir dados: {str(e)}\")\n",
    "        print(\"💡 Corrija a sintaxe e tente novamente!\")\n",
    "        return False\n",
    "\n",
    "print(\"\\n🛠️ Sistema de backup/restore configurado!\")\n",
    "print(\"Agora vamos começar a criar nossas tabelas...\")"
   ]
  },
  {
   "cell_type": "markdown",
   "id": "82800f3e",
   "metadata": {},
   "source": [
    "## 🏗️ Criando Nossa Primeira Tabela: CLIENTES\n",
    "\n",
    "### Sintaxe do CREATE TABLE:\n",
    "```sql\n",
    "CREATE TABLE nome_da_tabela (\n",
    "    coluna1 TIPO RESTRICOES,\n",
    "    coluna2 TIPO RESTRICOES,\n",
    "    ...\n",
    ");\n",
    "```\n",
    "\n",
    "### Tipos de Dados Comuns:\n",
    "- **INTEGER**: números inteiros (1, 2, 3...)\n",
    "- **TEXT**: texto (\"João\", \"São Paulo\")\n",
    "- **REAL**: números decimais (10.5, 99.99)\n",
    "- **DATE**: datas (2024-01-15)\n",
    "\n",
    "### Restrições Importantes:\n",
    "- **PRIMARY KEY**: define a chave primária\n",
    "- **NOT NULL**: campo obrigatório\n",
    "- **AUTOINCREMENT**: valor incrementa automaticamente\n",
    "\n",
    "### Nossa Tabela CLIENTES:\n",
    "- **id**: identificador único (PK, autoincrement)\n",
    "- **nome**: nome da empresa (obrigatório)\n",
    "- **setor**: setor de atuação (obrigatório)\n",
    "- **cidade**: cidade onde fica (obrigatório)\n",
    "- **uf**: estado com 2 letras (obrigatório)"
   ]
  },
  {
   "cell_type": "code",
   "execution_count": 139,
   "id": "a1914e8c",
   "metadata": {},
   "outputs": [
    {
     "name": "stdout",
     "output_type": "stream",
     "text": [
      "📁 Backup criado\n",
      "✅ PASSOU: Criação da tabela clientes\n",
      "✅ Query executada e validada com sucesso!\n"
     ]
    },
    {
     "data": {
      "text/plain": [
       "True"
      ]
     },
     "execution_count": 139,
     "metadata": {},
     "output_type": "execute_result"
    }
   ],
   "source": [
    "# TODO: Crie a tabela CLIENTES\n",
    "# Dica: Use a sintaxe CREATE TABLE com as colunas mencionadas acima\n",
    "# Lembre-se: id deve ser PRIMARY KEY AUTOINCREMENT, outros campos NOT NULL\n",
    "\n",
    "query_clientes = \"\"\"\n",
    "CREATE TABLE clientes (\n",
    "    id INTEGER PRIMARY KEY AUTOINCREMENT,\n",
    "    nome TEXT NOT NULL,\n",
    "    setor TEXT NOT NULL,\n",
    "    cidade TEXT NOT NULL,\n",
    "    uf CHAR(2) NOT NULL\n",
    ");\n",
    "\n",
    "\"\"\"\n",
    "\n",
    "# Quando terminar sua query, execute a validação:\n",
    "validate_and_execute(query_clientes, test_create_clientes)"
   ]
  },
  {
   "cell_type": "markdown",
   "id": "9e44164b",
   "metadata": {},
   "source": [
    "## 🔗 Criando as Demais Tabelas\n",
    "\n",
    "Agora vamos criar as outras tabelas, prestando atenção nas **dependências**. \n",
    "\n",
    "### Ordem de Criação (IMPORTANTE!):\n",
    "1. ✅ CLIENTES (já criada)\n",
    "2. 🔄 PROJETOS (depende de CLIENTES)\n",
    "3. 🔄 CONSULTORES (independente)\n",
    "4. 🔄 ALOCACOES (depende de PROJETOS e CONSULTORES)\n",
    "5. 🔄 FEEDBACKS (depende de PROJETOS)\n",
    "\n",
    "### Por que a ordem importa?\n",
    "Quando criamos uma FK (chave estrangeira), a tabela referenciada **já deve existir**!"
   ]
  },
  {
   "cell_type": "markdown",
   "id": "4f9e577b",
   "metadata": {},
   "source": [
    "### 📋 Tabela PROJETOS\n",
    "\n",
    "Armazena os trabalhos que realizamos para os clientes.\n",
    "\n",
    "**Colunas:**\n",
    "- **id**: PK, autoincrement\n",
    "- **titulo**: nome do projeto (obrigatório) - formato: \"PALAVRA I\", \"PALAVRA II\"\n",
    "- **escopo**: descrição do que será feito\n",
    "- **data_inicio**: quando começou (obrigatório)\n",
    "- **data_fim**: quando terminou (pode ser NULL se ainda em andamento)\n",
    "- **cliente_id**: FK → clientes.id (obrigatório)\n",
    "\n",
    "**Restrições de FK:**\n",
    "- ON DELETE RESTRICT: não pode apagar cliente se tem projetos\n",
    "- ON UPDATE CASCADE: se ID do cliente mudar, atualiza aqui também"
   ]
  },
  {
   "cell_type": "code",
   "execution_count": 140,
   "id": "5620fe4c",
   "metadata": {},
   "outputs": [
    {
     "name": "stdout",
     "output_type": "stream",
     "text": [
      "📁 Backup criado\n",
      "✅ PASSOU: Criação da tabela projetos\n",
      "✅ Query executada e validada com sucesso!\n"
     ]
    },
    {
     "data": {
      "text/plain": [
       "True"
      ]
     },
     "execution_count": 140,
     "metadata": {},
     "output_type": "execute_result"
    }
   ],
   "source": [
    "# TODO: Crie a tabela PROJETOS\n",
    "# Dica: Use FOREIGN KEY (cliente_id) REFERENCES clientes(id) ON DELETE RESTRICT ON UPDATE CASCADE\n",
    "\n",
    "query_projetos = \"\"\"\n",
    "CREATE TABLE projetos (\n",
    "    id INTEGER PRIMARY KEY AUTOINCREMENT,\n",
    "    titulo TEXT NOT NULL,\n",
    "    escopo TEXT,\n",
    "    data_inicio DATE NOT NULL,\n",
    "    data_fim DATE,\n",
    "    cliente_id INTEGER NOT NULL,\n",
    "    FOREIGN KEY (cliente_id)\n",
    "        REFERENCES CLIENTES(id)\n",
    "        ON DELETE RESTRICT\n",
    "        ON UPDATE CASCADE\n",
    ");\n",
    "\n",
    "\"\"\"\n",
    "\n",
    "# Quando terminar sua query, execute a validação:\n",
    "validate_and_execute(query_projetos, test_create_projetos)"
   ]
  },
  {
   "cell_type": "markdown",
   "id": "4bb95365",
   "metadata": {},
   "source": [
    "### 👨‍💼 Tabela CONSULTORES\n",
    "\n",
    "Nossa equipe de trabalho, dividida por frentes de atuação.\n",
    "\n",
    "**Colunas:**\n",
    "- **id**: PK, autoincrement  \n",
    "- **nome**: nome completo (obrigatório)\n",
    "- **frente**: área de atuação (obrigatório) - valores: 'ENG', 'BUS', 'DIR'"
   ]
  },
  {
   "cell_type": "code",
   "execution_count": 141,
   "id": "ae1fbf26",
   "metadata": {},
   "outputs": [
    {
     "name": "stdout",
     "output_type": "stream",
     "text": [
      "📁 Backup criado\n",
      "✅ PASSOU: Criação da tabela consultores\n",
      "✅ Query executada e validada com sucesso!\n"
     ]
    },
    {
     "data": {
      "text/plain": [
       "True"
      ]
     },
     "execution_count": 141,
     "metadata": {},
     "output_type": "execute_result"
    }
   ],
   "source": [
    "# TODO: Crie a tabela CONSULTORES\n",
    "query_consultores = \"\"\"\n",
    "CREATE TABLE consultores (\n",
    "    id INTEGER PRIMARY KEY AUTOINCREMENT,\n",
    "    nome TEXT NOT NULL,\n",
    "    frente TEXT NOT NULL CHECK (frente IN ('ENG', 'BUS', 'DIR'))\n",
    ");\n",
    "\n",
    "\"\"\"\n",
    "\n",
    "# Quando terminar sua query, execute a validação:\n",
    "validate_and_execute(query_consultores, test_create_consultores)"
   ]
  },
  {
   "cell_type": "markdown",
   "id": "947daf74",
   "metadata": {},
   "source": [
    "### 🔗 Tabela ALOCACOES\n",
    "\n",
    "Conecta consultores aos projetos, registrando quantas horas cada um trabalhou.\n",
    "\n",
    "**Colunas:**\n",
    "- **id**: PK, autoincrement\n",
    "- **projeto_id**: FK → projetos.id (ON DELETE CASCADE, ON UPDATE CASCADE)\n",
    "- **consultor_id**: FK → consultores.id (ON DELETE RESTRICT, ON UPDATE CASCADE)  \n",
    "- **horas_trabalhadas**: REAL NOT NULL CHECK (>=0)\n",
    "\n",
    "**Restrição especial:**\n",
    "- UNIQUE(projeto_id, consultor_id): um consultor não pode ser alocado duas vezes no mesmo projeto"
   ]
  },
  {
   "cell_type": "code",
   "execution_count": 142,
   "id": "e050661f",
   "metadata": {},
   "outputs": [
    {
     "name": "stdout",
     "output_type": "stream",
     "text": [
      "📁 Backup criado\n",
      "✅ PASSOU: Criação da tabela alocacoes\n",
      "✅ Query executada e validada com sucesso!\n"
     ]
    },
    {
     "data": {
      "text/plain": [
       "True"
      ]
     },
     "execution_count": 142,
     "metadata": {},
     "output_type": "execute_result"
    }
   ],
   "source": [
    "# TODO: Crie a tabela ALOCACOES\n",
    "# Dica: Use CHECK para validar horas >= 0 e UNIQUE para evitar duplicatas\n",
    "query_alocacoes = \"\"\"\n",
    "CREATE TABLE alocacoes (\n",
    "    id INTEGER PRIMARY KEY AUTOINCREMENT,\n",
    "    projeto_id INTEGER NOT NULL,\n",
    "    consultor_id INTEGER NOT NULL,\n",
    "    horas_trabalhadas REAL NOT NULL CHECK (horas_trabalhadas >= 0),\n",
    "    UNIQUE (projeto_id, consultor_id),\n",
    "    FOREIGN KEY (projeto_id)\n",
    "        REFERENCES PROJETOS(id)\n",
    "        ON DELETE CASCADE\n",
    "        ON UPDATE CASCADE,\n",
    "    FOREIGN KEY (consultor_id)\n",
    "        REFERENCES CONSULTORES(id)\n",
    "        ON DELETE RESTRICT\n",
    "        ON UPDATE CASCADE\n",
    ");\n",
    "\n",
    "\"\"\"\n",
    "\n",
    "# Quando terminar sua query, execute a validação:\n",
    "validate_and_execute(query_alocacoes, test_create_alocacoes)"
   ]
  },
  {
   "cell_type": "markdown",
   "id": "65a1267f",
   "metadata": {},
   "source": [
    "### ⭐ Tabela FEEDBACKS\n",
    "\n",
    "Avaliações dos projetos realizados.\n",
    "\n",
    "**Colunas:**\n",
    "- **id**: PK, autoincrement\n",
    "- **projeto_id**: FK → projetos.id (ON DELETE CASCADE, ON UPDATE CASCADE)\n",
    "- **nota**: INTEGER NOT NULL CHECK (1 ≤ nota ≤ 5) \n",
    "- **comentario**: TEXT (opcional)"
   ]
  },
  {
   "cell_type": "code",
   "execution_count": 143,
   "id": "9e7d44ee",
   "metadata": {},
   "outputs": [
    {
     "name": "stdout",
     "output_type": "stream",
     "text": [
      "📁 Backup criado\n",
      "✅ PASSOU: Criação da tabela feedbacks\n",
      "✅ Query executada e validada com sucesso!\n"
     ]
    },
    {
     "data": {
      "text/plain": [
       "True"
      ]
     },
     "execution_count": 143,
     "metadata": {},
     "output_type": "execute_result"
    }
   ],
   "source": [
    "# TODO: Crie a tabela FEEDBACKS  \n",
    "# Dica: Use CHECK para garantir nota entre 1 e 5\n",
    "query_feedbacks = \"\"\"\n",
    "CREATE TABLE feedbacks (\n",
    "    id INTEGER PRIMARY KEY AUTOINCREMENT,\n",
    "    projeto_id INTEGER NOT NULL,\n",
    "    nota INTEGER NOT NULL CHECK (nota BETWEEN 1 AND 5),\n",
    "    comentario TEXT,\n",
    "    FOREIGN KEY (projeto_id)\n",
    "        REFERENCES PROJETOS(id)\n",
    "        ON DELETE CASCADE\n",
    "        ON UPDATE CASCADE\n",
    ");\n",
    "\n",
    "\n",
    "\"\"\"\n",
    "\n",
    "# Quando terminar sua query, execute a validação:\n",
    "validate_and_execute(query_feedbacks, test_create_feedbacks)"
   ]
  },
  {
   "cell_type": "markdown",
   "id": "2753c910",
   "metadata": {},
   "source": [
    "## 📝 Inserindo Dados nas Tabelas\n",
    "\n",
    "Agora que criamos a estrutura, vamos povoar nosso banco com dados!\n",
    "\n",
    "### Sintaxe do INSERT:\n",
    "```sql\n",
    "INSERT INTO nome_tabela (coluna1, coluna2, coluna3) \n",
    "VALUES (valor1, valor2, valor3);\n",
    "```\n",
    "\n",
    "### Dicas importantes:\n",
    "- **Strings** vão entre aspas simples: 'Texto aqui'\n",
    "- **Datas** no formato: '2024-01-15'  \n",
    "- **IDs** são gerados automaticamente (AUTOINCREMENT)\n",
    "- **NULL** para valores vazios\n",
    "\n",
    "### Ordem de inserção (por causa das FKs):\n",
    "1. CLIENTES (não depende de ninguém)\n",
    "2. CONSULTORES (não depende de ninguém)  \n",
    "3. PROJETOS (precisa do cliente_id)\n",
    "4. ALOCACOES (precisa de projeto_id e consultor_id)\n",
    "5. FEEDBACKS (precisa do projeto_id)"
   ]
  },
  {
   "cell_type": "code",
   "execution_count": 144,
   "id": "f1da6c05",
   "metadata": {},
   "outputs": [
    {
     "name": "stdout",
     "output_type": "stream",
     "text": [
      "📁 Backup criado\n",
      "✅ PASSOU: Inserção de dados na tabela clientes\n",
      "✅ Dados inseridos e validados com sucesso!\n"
     ]
    },
    {
     "data": {
      "text/plain": [
       "True"
      ]
     },
     "execution_count": 144,
     "metadata": {},
     "output_type": "execute_result"
    }
   ],
   "source": [
    "# TODO: Insira 5 clientes\n",
    "# Dados esperados:\n",
    "# 0. NOME, SETOR, CIDADE, UF                \n",
    "# 1. TechCorp Solutions, Tecnologia, São Paulo, SP\n",
    "# 2. Verde Agro Ltda, Agronegócio, Campinas, SP  \n",
    "# 3. MetalMax Indústrias, Metalurgia, Santos, SP\n",
    "# 4. EduCare Ensino, Educação, Ribeirão Preto, SP\n",
    "# 5. FastLogistic S.A., Logística, São José dos Campos, SP\n",
    "\n",
    "insert_clientes = \"\"\"\n",
    "INSERT INTO clientes (nome, setor, cidade, uf) VALUES\n",
    "('TechCorp Solutions', 'Tecnologia', 'São Paulo', 'SP'),\n",
    "('Verde Agro Ltda', 'Agronegócio', 'Campinas', 'SP'),\n",
    "('MetalMax Indústrias', 'Metalurgia', 'Santos', 'SP'),\n",
    "('EduCare Ensino', 'Educação', 'Ribeirão Preto', 'SP'),\n",
    "('FastLogistic S.A.', 'Logística', 'São José dos Campos', 'SP');\n",
    "\"\"\"\n",
    "\n",
    "\n",
    "# Quando terminar suas queries, execute a validação:\n",
    "validate_and_execute_inserts(insert_clientes, test_insert_clientes)"
   ]
  },
  {
   "cell_type": "code",
   "execution_count": 145,
   "id": "92f8cafe",
   "metadata": {},
   "outputs": [
    {
     "name": "stdout",
     "output_type": "stream",
     "text": [
      "📁 Backup criado\n",
      "✅ PASSOU: Inserção de dados na tabela consultores\n",
      "✅ Dados inseridos e validados com sucesso!\n",
      "💡 Descomente a linha acima quando terminar!\n"
     ]
    }
   ],
   "source": [
    "# TODO: Insira 5 consultores\n",
    "# Dados esperados:\n",
    "# 0. NOME, FRENTE\n",
    "# 1. Ana Silva, ENG\n",
    "# 2. Carlos Santos, BUS\n",
    "# 3. Maria Oliveira, DIR\n",
    "# 4. João Costa, ENG\n",
    "# 5. Fernanda Lima, BUS\n",
    "\n",
    "insert_consultores = \"\"\"\n",
    "INSERT INTO CONSULTORES (nome, frente) VALUES\n",
    "('Ana Silva', 'ENG'),\n",
    "('Carlos Santos', 'BUS'),\n",
    "('Maria Oliveira', 'DIR'),\n",
    "('João Costa', 'ENG'),\n",
    "('Fernanda Lima', 'BUS');\n",
    "\"\"\"\n",
    "\n",
    "\n",
    "validate_and_execute_inserts(insert_consultores, test_insert_consultores)\n",
    "print(\"💡 Descomente a linha acima quando terminar!\")"
   ]
  },
  {
   "cell_type": "code",
   "execution_count": 146,
   "id": "3f60599e",
   "metadata": {},
   "outputs": [
    {
     "name": "stdout",
     "output_type": "stream",
     "text": [
      "📁 Backup criado\n",
      "✅ PASSOU: Inserção de dados na tabela projetos\n",
      "✅ Dados inseridos e validados com sucesso!\n",
      "💡 Descomente a linha acima quando terminar!\n"
     ]
    }
   ],
   "source": [
    "# TODO: Insira 6 projetos (títulos no formato CAPS + numeral romano)\n",
    "# Dados esperados:\n",
    "# 0. TITULO, DESCRICAO, DATA_INICIO, DATA_FIM, CLIENTE_ID\n",
    "# 1. ERP I, Implementação de sistema ERP, 2024-01-15, 2024-06-15, cliente_id=1\n",
    "# 2. MARKETING II, Estratégia de marketing digital, 2024-02-01, 2024-08-01, cliente_id=2\n",
    "# 3. LOGISTICA III, Otimização de processos logísticos, 2024-03-10, NULL, cliente_id=5\n",
    "# 4. EDUCACAO IV, Plataforma de ensino online, 2024-04-05, 2024-10-05, cliente_id=4\n",
    "# 5. VENDAS V, Automação de vendas, 2024-05-20, NULL, cliente_id=3\n",
    "# 6. FINANCEIRO VI, Sistema financeiro integrado, 2024-06-15, NULL, cliente_id=1\n",
    "\n",
    "insert_projetos = \"\"\"\n",
    "INSERT INTO PROJETOS (titulo, escopo, data_inicio, data_fim, cliente_id) VALUES\n",
    "('ERP I', 'Implementação de sistema ERP', '2024-01-15', '2024-06-15', 1),\n",
    "('MARKETING II', 'Estratégia de marketing digital', '2024-02-01', '2024-08-01', 2),\n",
    "('LOGISTICA III', 'Otimização de processos logísticos', '2024-03-10', NULL, 5),\n",
    "('EDUCACAO IV', 'Plataforma de ensino online', '2024-04-05', '2024-10-05', 4),\n",
    "('VENDAS V', 'Automação de vendas', '2024-05-20', NULL, 3),\n",
    "('FINANCEIRO VI', 'Sistema financeiro integrado', '2024-06-15', NULL, 1);\n",
    "\"\"\"\n",
    "\n",
    "\n",
    "validate_and_execute_inserts(insert_projetos, test_insert_projetos)\n",
    "print(\"💡 Descomente a linha acima quando terminar!\")"
   ]
  },
  {
   "cell_type": "code",
   "execution_count": 147,
   "id": "1cc257d4",
   "metadata": {},
   "outputs": [
    {
     "name": "stdout",
     "output_type": "stream",
     "text": [
      "📁 Backup criado\n",
      "✅ PASSOU: Inserção de dados na tabela alocacoes\n",
      "✅ Dados inseridos e validados com sucesso!\n",
      "💡 Descomente a linha acima quando terminar!\n"
     ]
    }
   ],
   "source": [
    "# TODO: Insira 10 alocações\n",
    "# Dados esperados (projeto_id, consultor_id, horas):\n",
    "# (1,1,120.5), (1,3,80.0), (2,2,95.5), (2,5,110.0), (3,1,150.0)\n",
    "# (3,4,75.5), (4,5,200.0), (5,2,60.0), (5,3,85.5), (6,1,90.0)\n",
    "\n",
    "insert_alocacoes = \"\"\"\n",
    "INSERT INTO ALOCACOES (projeto_id, consultor_id, horas_trabalhadas) VALUES\n",
    "(1, 1, 120.5),\n",
    "(1, 3, 80.0),\n",
    "(2, 2, 95.5),\n",
    "(2, 5, 110.0),\n",
    "(3, 1, 150.0),\n",
    "(3, 4, 75.5),\n",
    "(4, 5, 200.0),\n",
    "(5, 2, 60.0),\n",
    "(5, 3, 85.5),\n",
    "(6, 1, 90.0);\n",
    "\"\"\"\n",
    "\n",
    "validate_and_execute_inserts(insert_alocacoes, test_insert_alocacoes)\n",
    "print(\"💡 Descomente a linha acima quando terminar!\")"
   ]
  },
  {
   "cell_type": "code",
   "execution_count": 148,
   "id": "928a9f4e",
   "metadata": {},
   "outputs": [
    {
     "name": "stdout",
     "output_type": "stream",
     "text": [
      "📁 Backup criado\n",
      "✅ PASSOU: Inserção de dados na tabela feedbacks\n",
      "✅ Dados inseridos e validados com sucesso!\n",
      "💡 Descomente a linha acima quando terminar!\n"
     ]
    }
   ],
   "source": [
    "# TODO: Insira 5 feedbacks\n",
    "# Dados esperados (projeto_id, nota, comentario):\n",
    "# (1, 5, 'Excelente trabalho, superou expectativas')\n",
    "# (2, 4, 'Bom resultado, algumas melhorias necessárias')\n",
    "# (4, 5, 'Projeto entregue com qualidade excepcional')  \n",
    "# (5, 3, 'Resultado satisfatório, pode melhorar')\n",
    "# (6, 4, 'Boa execução dentro do prazo')\n",
    "\n",
    "insert_feedbacks = \"\"\"\n",
    "INSERT INTO feedbacks (projeto_id, nota, comentario) VALUES\n",
    "(1, 5, 'Excelente trabalho, superou expectativas'),\n",
    "(2, 4, 'Bom resultado, algumas melhorias necessárias'),\n",
    "(4, 5, 'Projeto entregue com qualidade excepcional'),\n",
    "(5, 3, 'Resultado satisfatório, pode melhorar'),\n",
    "(6, 4, 'Boa execução dentro do prazo');\n",
    "\"\"\"\n",
    "\n",
    "\n",
    "validate_and_execute_inserts(insert_feedbacks, test_insert_feedbacks)\n",
    "print(\"💡 Descomente a linha acima quando terminar!\")"
   ]
  },
  {
   "cell_type": "markdown",
   "id": "5280a354",
   "metadata": {},
   "source": [
    "## 🎉 Parabéns! Você Criou Seu Primeiro Banco de Dados!\n",
    "\n",
    "### O que você aprendeu:\n",
    "\n",
    "✅ **Conceitos fundamentais**:\n",
    "- O que são bancos de dados e SQL\n",
    "- Chaves primárias (PK) e estrangeiras (FK)\n",
    "- Relacionamentos entre tabelas\n",
    "\n",
    "✅ **Comandos DDL (Data Definition Language)**:\n",
    "- `CREATE TABLE` para criar estruturas\n",
    "- Tipos de dados (INTEGER, TEXT, REAL, DATE)\n",
    "- Restrições (NOT NULL, CHECK, UNIQUE)\n",
    "\n",
    "✅ **Comandos DML (Data Manipulation Language)**:\n",
    "- `INSERT INTO` para adicionar dados\n",
    "- Importância da ordem de inserção\n",
    "\n",
    "✅ **Integridade referencial**:\n",
    "- Como FK mantêm consistência\n",
    "- ON DELETE e ON UPDATE\n",
    "\n",
    "### Próximos passos:\n",
    "Na próxima lição, aprenderemos consultas com `SELECT` para extrair informações do banco!\n",
    "\n",
    "### Verificação final:\n",
    "Execute a célula abaixo para ver um resumo do que foi criado:"
   ]
  },
  {
   "cell_type": "code",
   "execution_count": 149,
   "id": "bb2e376d",
   "metadata": {},
   "outputs": [
    {
     "name": "stdout",
     "output_type": "stream",
     "text": [
      "📊 RESUMO DO BANCO DE DADOS CRIADO\n",
      "==================================================\n",
      "\n",
      "🏗️  Tabelas criadas: 6\n",
      "   • clientes\n",
      "   • projetos\n",
      "   • consultores\n",
      "   • alocacoes\n",
      "   • feedbacks\n",
      "\n",
      "📊 Registros por tabela:\n",
      "   • clientes: 5 registros\n",
      "   • projetos: 6 registros\n",
      "   • consultores: 5 registros\n",
      "   • alocacoes: 10 registros\n",
      "   • feedbacks: 5 registros\n",
      "\n",
      "✅ Banco 'consultoria.db' criado com sucesso!\n",
      "🔗 Sistema de relacionamentos funcionando!\n",
      "\n",
      "🔌 Conexão fechada. Exercício concluído!\n"
     ]
    }
   ],
   "source": [
    "# Verificação final - resumo do banco criado\n",
    "import pandas as pd\n",
    "\n",
    "print(\"📊 RESUMO DO BANCO DE DADOS CRIADO\")\n",
    "print(\"=\" * 50)\n",
    "\n",
    "# Checa se a conn esta ligada, se nao estiver, liga\n",
    "conn.close()\n",
    "conn = sqlite3.connect('consultoria.db')\n",
    "\n",
    "# Lista as tabelas criadas\n",
    "cursor = conn.cursor()\n",
    "cursor.execute(\"SELECT name FROM sqlite_master WHERE type='table'\")\n",
    "tables = cursor.fetchall()\n",
    "\n",
    "print(f\"\\n🏗️  Tabelas criadas: {len(tables)}\")\n",
    "for table in tables:\n",
    "    if (table[0] != 'sqlite_sequence'):  # Ignora tabela interna de sequência\n",
    "        print(f\"   • {table[0]}\")\n",
    "\n",
    "# Conta registros em cada tabela\n",
    "print(f\"\\n📊 Registros por tabela:\")\n",
    "for table in tables:\n",
    "    if (table[0] != 'sqlite_sequence'):  # Ignora tabela interna de sequência\n",
    "        cursor.execute(f\"SELECT COUNT(*) FROM {table[0]}\")\n",
    "        count = cursor.fetchone()[0]\n",
    "        print(f\"   • {table[0]}: {count} registros\")\n",
    "\n",
    "print(f\"\\n✅ Banco 'consultoria.db' criado com sucesso!\")\n",
    "print(f\"🔗 Sistema de relacionamentos funcionando!\")\n",
    "\n",
    "# Fechando conexão\n",
    "conn.close()\n",
    "print(f\"\\n🔌 Conexão fechada. Exercício concluído!\")"
   ]
  },
  {
   "cell_type": "code",
   "execution_count": 134,
   "id": "26194b18",
   "metadata": {},
   "outputs": [
    {
     "name": "stdout",
     "output_type": "stream",
     "text": [
      "✅ Módulo test_join recarregado com sucesso!\n",
      "📋 Funções disponíveis: ['test_inner_join', 'test_inner_join_hard', 'test_inner_join_medium', 'test_left_join']\n",
      "✅ Funções test_inner_join e test_left_join importadas!\n"
     ]
    }
   ],
   "source": [
    "# 🔄 IMPORTANTE: Recarregando módulo de testes\n",
    "# Isso garante que novas funções adicionadas a test_join.py sejam reconhecidas\n",
    "\n",
    "import sys\n",
    "import importlib\n",
    "\n",
    "# Adiciona o diretório tests ao path (se ainda não foi feito)\n",
    "tests_path = 'tests'\n",
    "if tests_path not in sys.path:\n",
    "    sys.path.append(tests_path)\n",
    "\n",
    "# Importa e recarrega o módulo para pegar as últimas mudanças\n",
    "try:\n",
    "    import test_join\n",
    "    importlib.reload(test_join)\n",
    "    print(\"✅ Módulo test_join recarregado com sucesso!\")\n",
    "    \n",
    "    # Lista todas as funções disponíveis no módulo\n",
    "    functions = [func for func in dir(test_join) if callable(getattr(test_join, func)) and not func.startswith('_')]\n",
    "    print(f\"📋 Funções disponíveis: {functions}\")\n",
    "    \n",
    "    # Importa as funções específicas\n",
    "    from test_join import test_inner_join, test_left_join,test_inner_join_medium,test_inner_join_hard\n",
    "    print(\"✅ Funções test_inner_join e test_left_join importadas!\")\n",
    "    \n",
    "except ImportError as e:\n",
    "    print(f\"❌ Erro ao importar test_join: {e}\")\n",
    "except AttributeError as e:\n",
    "    print(f\"❌ Erro: Uma das funções não foi encontrada: {e}\")\n",
    "    print(\"🔧 Verifique se test_inner_join e test_left_join estão definidas em test_join.py\")"
   ]
  }
 ],
 "metadata": {
  "kernelspec": {
   "display_name": "venv",
   "language": "python",
   "name": "python3"
  },
  "language_info": {
   "codemirror_mode": {
    "name": "ipython",
    "version": 3
   },
   "file_extension": ".py",
   "mimetype": "text/x-python",
   "name": "python",
   "nbconvert_exporter": "python",
   "pygments_lexer": "ipython3",
   "version": "3.13.3"
  }
 },
 "nbformat": 4,
 "nbformat_minor": 5
}
