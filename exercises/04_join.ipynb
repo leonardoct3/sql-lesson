{
 "cells": [
  {
   "cell_type": "markdown",
   "id": "e47e0360",
   "metadata": {},
   "source": [
    "# JOIN"
   ]
  },
  {
   "cell_type": "code",
   "execution_count": 12,
   "id": "8c32c21a",
   "metadata": {},
   "outputs": [],
   "source": [
    "import sys\n",
    "import sqlite3\n",
    "sys.path.append('tests')\n",
    "from test_join import *"
   ]
  },
  {
   "cell_type": "code",
   "execution_count": null,
   "id": "c439ef0f",
   "metadata": {},
   "outputs": [
    {
     "name": "stdout",
     "output_type": "stream",
     "text": [
      "✅ Conectado ao banco de dados 'consultoria.db'\n",
      "✅ Chaves estrangeiras habilitadas\n",
      "\n",
      "🛠️ Sistema de backup/restore configurado!\n",
      "Agora vamos começar a criar nossas tabelas...\n"
     ]
    }
   ],
   "source": [
    "\n",
    "conn = sqlite3.connect('consultoria.db')\n",
    "\n",
    "conn.execute(\"DROP TABLE IF EXISTS projetos\")\n",
    "conn.execute(\"DROP TABLE IF EXISTS clientes\")\n",
    "conn.execute(\"DROP TABLE IF EXISTS consultores\")\n",
    "conn.execute(\"DROP TABLE IF EXISTS feedbacks\")\n",
    "conn.execute(\"DROP TABLE IF EXISTS alocacoes\")\n",
    "\n",
    "conn.execute(\"PRAGMA foreign_keys = ON;\")\n",
    "\n",
    "print(\"✅ Conectado ao banco de dados 'consultoria.db'\")\n",
    "print(\"✅ Chaves estrangeiras habilitadas\")\n",
    "\n",
    "backup_conn = None\n",
    "\n",
    "def backup_db():\n",
    "    \"\"\"Cria um backup do banco em memória\"\"\"\n",
    "    global backup_conn\n",
    "    backup_conn = sqlite3.connect(':memory:')\n",
    "    conn.backup(backup_conn)\n",
    "    print(\"📁 Backup criado\")\n",
    "\n",
    "def restore_db():\n",
    "    \"\"\"Restaura o banco a partir do backup\"\"\"\n",
    "    global backup_conn\n",
    "    if backup_conn:\n",
    "        backup_conn.backup(conn)\n",
    "        print(\"🔄 Banco restaurado do backup\")\n",
    "    else:\n",
    "        print(\"❌ Nenhum backup disponível\")\n",
    "\n",
    "def validate_and_execute(query, test_function):\n",
    "    \"\"\"Valida query em ambiente isolado antes de executar no banco principal\"\"\"\n",
    "    if not query or not query.strip():\n",
    "        print(\"❌ Query vazia! Escreva sua query SQL antes de executar.\")\n",
    "        return False\n",
    "    \n",
    "    backup_db()\n",
    "    \n",
    "    try:\n",
    "        test_conn = sqlite3.connect(':memory:')\n",
    "        test_conn.execute(\"PRAGMA foreign_keys = ON;\")\n",
    "        \n",
    "        for linha in conn.iterdump():\n",
    "            if not linha.startswith('BEGIN') and not linha.startswith('COMMIT'):\n",
    "                try:\n",
    "                    test_conn.execute(linha)\n",
    "                except:\n",
    "                    pass  \n",
    "        \n",
    "\n",
    "        test_conn.execute(query)\n",
    "        test_conn.commit()\n",
    "\n",
    "        conn.execute(query)\n",
    "        conn.commit()\n",
    "        \n",
    "        success = test_function(conn)\n",
    "        \n",
    "        if success:\n",
    "            print(\"✅ Query executada e validada com sucesso!\")\n",
    "            return True\n",
    "        else:\n",
    "            restore_db()\n",
    "            print(\"💡 Query executada mas resultado incorreto. Banco restaurado, tente novamente!\")\n",
    "            return False\n",
    "            \n",
    "    except Exception as e:\n",
    "        print(f\"❌ Erro na query: {str(e)}\")\n",
    "        print(\"💡 Corrija a sintaxe e tente novamente!\")\n",
    "        return False\n",
    "    finally:\n",
    "        if 'test_conn' in locals():\n",
    "            test_conn.close()\n",
    "\n",
    "def test_and_rollback(test_function):\n",
    "    \"\"\"Mantido para compatibilidade - executa teste simples\"\"\"\n",
    "    success = test_function(conn)\n",
    "    if not success:\n",
    "        print(\"💡 Execute a query correta primeiro!\")\n",
    "    return success\n",
    "\n",
    "def validate_and_execute_inserts(insert_queries, test_function):\n",
    "    \"\"\"Valida e executa múltiplas queries INSERT com rollback automático\"\"\"\n",
    "    if not insert_queries or not insert_queries.strip():\n",
    "        print(\"❌ Queries vazias! Escreva seus INSERTs antes de executar.\")\n",
    "        return False\n",
    "    backup_db()\n",
    "    \n",
    "    try:\n",
    "        queries = [q.strip() for q in insert_queries.strip().split(';') if q.strip()]\n",
    "        \n",
    "        if not queries:\n",
    "            print(\"❌ Nenhuma query válida encontrada!\")\n",
    "            return False\n",
    "        \n",
    "        for query in queries:\n",
    "            conn.execute(query)\n",
    "        conn.commit()\n",
    "\n",
    "        success = test_function(conn)\n",
    "        \n",
    "        if success:\n",
    "            print(\"✅ Dados inseridos e validados com sucesso!\")\n",
    "            return True\n",
    "        else:\n",
    "            restore_db()\n",
    "            print(\"💡 Dados inseridos mas resultado incorreto. Banco restaurado, tente novamente!\")\n",
    "            return False\n",
    "            \n",
    "    except Exception as e:\n",
    "        restore_db()\n",
    "        print(f\"❌ Erro ao inserir dados: {str(e)}\")\n",
    "        print(\"💡 Corrija a sintaxe e tente novamente!\")\n",
    "        return False\n",
    "\n",
    "print(\"\\n🛠️ Sistema de backup/restore configurado!\")\n",
    "print(\"Agora vamos começar a criar nossas tabelas...\")\n",
    "def validate_and_execute_select(sql_query, test_function):\n",
    "    \"\"\"Valida e executa query SELECT com rollback automático\"\"\"\n",
    "    if not sql_query or not sql_query.strip():\n",
    "        print(\"❌ Query vazia! Escreva sua query SQL antes de executar.\")\n",
    "        return False\n",
    "    \n",
    "    backup_db()\n",
    "    \n",
    "    try:\n",
    "        success = test_function(sql_query, conn)\n",
    "        \n",
    "        if success:\n",
    "            print(\"✅ Query SELECT validada com sucesso!\")\n",
    "            df = pd.read_sql_query(sql_query, conn)\n",
    "            print(\"\\n📊 Resultado da sua query:\")\n",
    "            print(df.to_string(index=False))\n",
    "            return True\n",
    "        else:\n",
    "            restore_db()\n",
    "            print(\"💡 Query executada mas resultado incorreto. Banco restaurado, tente novamente!\")\n",
    "            return False\n",
    "            \n",
    "    except Exception as e:\n",
    "        restore_db()\n",
    "        print(f\"❌ Erro na query: {str(e)}\")\n",
    "        print(\"💡 Corrija a sintaxe e tente novamente!\")\n",
    "        return False\n",
    "\n"
   ]
  },
  {
   "cell_type": "markdown",
   "id": "c76cd8cc",
   "metadata": {},
   "source": [
    "\n",
    "\n",
    "### 1. INNER JOIN  \n",
    "\n",
    "Retorna apenas os registros que têm correspondência nas duas tabelas.  \n",
    "\n",
    "📌 **Sintaxe**:\n",
    "```sql\n",
    "SELECT colunas\n",
    "FROM tabela1\n",
    "INNER JOIN tabela2\n",
    "    ON tabela1.coluna = tabela2.coluna;\n",
    "```\n"
   ]
  },
  {
   "cell_type": "markdown",
   "id": "320cbf7a",
   "metadata": {},
   "source": [
    "# Agora vamos praticar! "
   ]
  },
  {
   "cell_type": "code",
   "execution_count": null,
   "id": "e1fa17c7",
   "metadata": {},
   "outputs": [
    {
     "name": "stdout",
     "output_type": "stream",
     "text": [
      "📁 Backup criado\n",
      "✅ INNER JOIN validado com sucesso! Resultado confere com o esperado.\n",
      "✅ Query SELECT validada com sucesso!\n",
      "\n",
      "📊 Resultado da sua query:\n",
      "       titulo        nome_cliente\n",
      "        ERP I  TechCorp Solutions\n",
      " MARKETING II     Verde Agro Ltda\n",
      "LOGISTICA III   FastLogistic S.A.\n",
      "  EDUCACAO IV      EduCare Ensino\n",
      "     VENDAS V MetalMax Indústrias\n",
      "FINANCEIRO VI  TechCorp Solutions\n"
     ]
    },
    {
     "data": {
      "text/plain": [
       "True"
      ]
     },
     "execution_count": 17,
     "metadata": {},
     "output_type": "execute_result"
    }
   ],
   "source": [
    "# TODO: Listar o título de cada projeto e o nome do cliente correspondente\n",
    "# Dica: Use INNER JOIN para conectar as tabelas PROJETOS e CLIENTES\n",
    "sql_inner_join_1 = \"\"\"\n",
    "\"\"\"\n",
    "\n",
    "validate_and_execute_select(sql_inner_join_1, test_inner_join)"
   ]
  },
  {
   "cell_type": "code",
   "execution_count": null,
   "id": "148a0374",
   "metadata": {},
   "outputs": [
    {
     "name": "stdout",
     "output_type": "stream",
     "text": [
      "📁 Backup criado\n",
      "✅ INNER JOIN (médio) validado com sucesso!\n",
      "✅ Query SELECT validada com sucesso!\n",
      "\n",
      "📊 Resultado da sua query:\n",
      "       titulo        nome_cliente  nota\n",
      "  EDUCACAO IV      EduCare Ensino     5\n",
      "        ERP I  TechCorp Solutions     5\n",
      "FINANCEIRO VI  TechCorp Solutions     4\n",
      " MARKETING II     Verde Agro Ltda     4\n",
      "     VENDAS V MetalMax Indústrias     3\n"
     ]
    },
    {
     "data": {
      "text/plain": [
       "True"
      ]
     },
     "execution_count": 18,
     "metadata": {},
     "output_type": "execute_result"
    }
   ],
   "source": [
    "#TODO: listar projeto, cliente e nota de todos os projetos avaliados, organizados por notas decrescente.\n",
    "# Dica: Use GROUP BY para agrupar por nota e titulo\n",
    "sql_inner_join_medium = \"\"\"\n",
    "\n",
    "\"\"\"\n",
    "# Rodar:\n",
    "validate_and_execute_select(sql_inner_join_medium, test_inner_join_medium)"
   ]
  },
  {
   "cell_type": "code",
   "execution_count": null,
   "id": "28a94f2d",
   "metadata": {},
   "outputs": [
    {
     "name": "stdout",
     "output_type": "stream",
     "text": [
      "📁 Backup criado\n",
      "✅ INNER JOIN (hard, sem HAVING) validado com sucesso!\n",
      "✅ Query SELECT validada com sucesso!\n",
      "\n",
      "📊 Resultado da sua query:\n",
      "      nome_cliente frente  total_horas  media_nota  qtd_projetos\n",
      "TechCorp Solutions    ENG        210.5         4.5             2\n",
      "   Verde Agro Ltda    BUS        205.5         4.0             1\n",
      "    EduCare Ensino    BUS        200.0         5.0             1\n",
      "TechCorp Solutions    DIR         80.0         5.0             1\n"
     ]
    },
    {
     "data": {
      "text/plain": [
       "True"
      ]
     },
     "execution_count": 19,
     "metadata": {},
     "output_type": "execute_result"
    }
   ],
   "source": [
    "#TODO:Para cada cliente e frente (ENG/BUS/DIR), some as horas alocadas em projetos que têm feedback com nota ≥ 4 \n",
    "# e calcule também a média da nota desses projetos e a quantidade de projetos distintos considerados.\n",
    "# Dica: Use AVG e COUNT DISTINCT para calcular a média e a contagem de projetos distintos\n",
    "sql_inner_join_hard = \"\"\"\n",
    "\n",
    "\"\"\"\n",
    "\n",
    "validate_and_execute_select(sql_inner_join_hard, test_inner_join_hard)"
   ]
  },
  {
   "cell_type": "markdown",
   "id": "a5d50450",
   "metadata": {},
   "source": [
    "### 2. LEFT JOIN  \n",
    "\n",
    "Retorna **todos** os registros da tabela à esquerda (primeira tabela) e os registros correspondentes da tabela à direita. Se não houver correspondência, retorna NULL para as colunas da tabela direita.\n",
    "\n",
    "📌 **Sintaxe**:\n",
    "```sql\n",
    "SELECT colunas\n",
    "FROM tabela_esquerda\n",
    "LEFT JOIN tabela_direita\n",
    "    ON tabela_esquerda.coluna = tabela_direita.coluna;\n",
    "```\n",
    "\n",
    "📊 **Diferença do INNER JOIN**:\n",
    "- **INNER JOIN**: Só registros que têm correspondência nas duas tabelas\n",
    "- **LEFT JOIN**: Todos da esquerda + correspondências da direita (NULL se não houver)\n",
    "\n",
    "💡 **Exemplo prático**: No LEFT JOIN entre CLIENTES e PROJETOS:\n",
    "- Todos os clientes aparecerão no resultado\n",
    "- Clientes com projetos: mostram os títulos dos projetos\n",
    "- Clientes sem projetos: mostram NULL na coluna titulo"
   ]
  },
  {
   "cell_type": "code",
   "execution_count": null,
   "id": "04d75b21",
   "metadata": {},
   "outputs": [
    {
     "name": "stdout",
     "output_type": "stream",
     "text": [
      "📁 Backup criado\n",
      "✅ LEFT JOIN validado com sucesso! Todos os projetos incluídos, mesmo sem consultores.\n",
      "✅ Query SELECT validada com sucesso!\n",
      "\n",
      "📊 Resultado da sua query:\n",
      "       titulo nome_consultor\n",
      "        ERP I      Ana Silva\n",
      "        ERP I Maria Oliveira\n",
      " MARKETING II  Carlos Santos\n",
      " MARKETING II  Fernanda Lima\n",
      "LOGISTICA III      Ana Silva\n",
      "LOGISTICA III     João Costa\n",
      "  EDUCACAO IV  Fernanda Lima\n",
      "     VENDAS V  Carlos Santos\n",
      "     VENDAS V Maria Oliveira\n",
      "FINANCEIRO VI      Ana Silva\n"
     ]
    },
    {
     "data": {
      "text/plain": [
       "True"
      ]
     },
     "execution_count": 22,
     "metadata": {},
     "output_type": "execute_result"
    }
   ],
   "source": [
    "# TODO: Listar TODOS os consultores e seus projetos (incluindo consultores sem projetos)\n",
    "# Dica: Use LEFT JOIN para garantir que todos os consultores apareçam\n",
    "\n",
    "\n",
    "sql_left_join_1 = \"\"\"\n",
    "\n",
    "\"\"\"\n",
    "\n",
    "# Quando terminar sua query, execute a validação:\n",
    "validate_and_execute_select(sql_left_join_1, test_left_join)"
   ]
  },
  {
   "cell_type": "code",
   "execution_count": null,
   "id": "fc078d97",
   "metadata": {},
   "outputs": [
    {
     "name": "stdout",
     "output_type": "stream",
     "text": [
      "📁 Backup criado\n",
      "✅ LEFT JOIN (médio) validado com sucesso!\n",
      "✅ Query SELECT validada com sucesso!\n",
      "\n",
      "📊 Resultado da sua query:\n",
      "       nome_cliente        titulo\n",
      "     EduCare Ensino   EDUCACAO IV\n",
      "  FastLogistic S.A. LOGISTICA III\n",
      "MetalMax Indústrias      VENDAS V\n",
      " TechCorp Solutions         ERP I\n",
      " TechCorp Solutions FINANCEIRO VI\n",
      "    Verde Agro Ltda  MARKETING II\n"
     ]
    },
    {
     "data": {
      "text/plain": [
       "True"
      ]
     },
     "execution_count": 24,
     "metadata": {},
     "output_type": "execute_result"
    }
   ],
   "source": [
    "# TODO: Listar todos os clientes e seus projetos (se existirem), e ordene por nome do cliente e título do projeto\n",
    "\n",
    "sql_left_join_2 = \"\"\"\n",
    "\n",
    "\"\"\"\n",
    "\n",
    "\n",
    "validate_and_execute_select(sql_left_join_2, test_left_join_medium)"
   ]
  },
  {
   "cell_type": "code",
   "execution_count": null,
   "id": "229faab5",
   "metadata": {},
   "outputs": [
    {
     "name": "stdout",
     "output_type": "stream",
     "text": [
      "📁 Backup criado\n",
      "✅ LEFT JOIN (difícil) validado com sucesso!\n",
      "✅ Query SELECT validada com sucesso!\n",
      "\n",
      "📊 Resultado da sua query:\n",
      "       nome_cliente  projetos_total  projetos_com_feedback  projetos_nota_ge_4  media_nota  total_horas\n",
      "     EduCare Ensino               1                      1                   1         5.0        200.0\n",
      "  FastLogistic S.A.               1                      0                   0         NaN        225.5\n",
      "MetalMax Indústrias               1                      1                   0         3.0        145.5\n",
      " TechCorp Solutions               2                      2                   2         4.5        290.5\n",
      "    Verde Agro Ltda               1                      1                   1         4.0        205.5\n"
     ]
    },
    {
     "data": {
      "text/plain": [
       "True"
      ]
     },
     "execution_count": 34,
     "metadata": {},
     "output_type": "execute_result"
    }
   ],
   "source": [
    "# TODO: Para cada cliente, listar:\n",
    "# projetos_total: nº de projetos\n",
    "# projetos_com_feedback: nº de projetos que têm ao menos 1 feedback (qualquer nota)\n",
    "# projetos_nota_ge_4: nº de projetos com nota ≥ 4\n",
    "# media_nota: média das notas dos projetos com feedback\n",
    "# total_horas: soma de horas alocadas em todos os seus projetos\n",
    "\n",
    "#Dicas:Use LEFT JOIN a partir de clientes → projetos → feedbacks e alocacoes\n",
    "# Agrupe por cliente\n",
    "# Ordene por nome_cliente ASC\n",
    "# Não filtre clientes sem feedback (devem aparecer; media_nota pode ser NULL)\n",
    "\n",
    "sql_left_join_hard = \"\"\"\n",
    "\n",
    "\"\"\"\n",
    "\n",
    "\n",
    "# 3) rode o validador corretamente\n",
    "validate_and_execute_select(sql_left_join_hard, test_left_join_hard)"
   ]
  }
 ],
 "metadata": {
  "kernelspec": {
   "display_name": "venv",
   "language": "python",
   "name": "python3"
  },
  "language_info": {
   "codemirror_mode": {
    "name": "ipython",
    "version": 3
   },
   "file_extension": ".py",
   "mimetype": "text/x-python",
   "name": "python",
   "nbconvert_exporter": "python",
   "pygments_lexer": "ipython3",
   "version": "3.13.3"
  }
 },
 "nbformat": 4,
 "nbformat_minor": 5
}
